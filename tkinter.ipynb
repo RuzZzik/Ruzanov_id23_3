{
 "cells": [
  {
   "cell_type": "code",
   "execution_count": 1,
   "id": "0cb5c24a-9421-4da6-9955-5e7f8e231b21",
   "metadata": {},
   "outputs": [],
   "source": [
    "import tkinter as tk\n",
    "import math\n",
    "\n",
    "window = tk.Tk() #создаем окно\n",
    "window.title(\"Окошко\") #задаем имя всплывающего окна\n",
    "window.geometry(\"600x600\") #размер всплывающего окна\n",
    "\n",
    "canvas = tk.Canvas(window, bg=\"white\", width=600, height=600) #задаем параметры для холста, где будет нарисован круг\n",
    "canvas.pack() #pack - размещает холст в окне\n",
    "\n",
    "radius = 200 #создаем окружность с радиусом 200 и задаем кооринаты ее центра\n",
    "x_center = 300\n",
    "y_center = 300\n",
    "canvas.create_oval(x_center - radius, y_center - radius, x_center + radius, y_center + radius, outline=\"black\", width=2) #рисуем окружность по заданным коордианатам, outline - цвет линии окружности и параметр ширины линии\n",
    "\n",
    "#создаем точку на окружности\n",
    "angle = 0 #инициализируем угол 0 градусов, затем вычисляем координаты x_point и y_point для точки на окружности\n",
    "x_point = x_center + radius * math.cos(math.radians(angle))\n",
    "y_point = y_center + radius * math.sin(math.radians(angle))\n",
    "point_id = canvas.create_oval(x_point - 5, y_point - 5, x_point + 5, y_point + 5, fill=\"red\") #создаем маленькую точку\n",
    "\n",
    "#задаем переменную скорости и направления\n",
    "speed = 0.2  #пикселей в секунду\n",
    "direction = 1  #направление - 1 по часовой, -1 против часовой\n",
    "\n",
    "#обновляем положение точки\n",
    "def update_point():\n",
    "    global angle, x_point, y_point #используем глобал для переменных вне функции\n",
    "    angle += speed * direction #изменяем угол, добавляя к нему speed * direction, что позволяет изменять направление\n",
    "    x_point = x_center + radius * math.cos(math.radians(angle)) #пересчет координат x_point, y_point на основе новых координат угла\n",
    "    y_point = y_center + radius * math.sin(math.radians(angle))\n",
    "    canvas.coords(point_id, x_point - 5, y_point - 5, x_point + 5, y_point + 5)  #обновляем координаты точки на холсте с помощью метода coords(), чтобы переместить ее в новое положение\n",
    "    window.after(10, update_point)  #after() использует задержку, которую мы можем изменить, в данном случае 10мс и вызывает функцию update_point() снова, создавая эффект анимации\n",
    "\n",
    "update_point() #вызываем функцию для начала анимации\n",
    "\n",
    "window.mainloop() #запускаем цикл, метод mainloop() запускает главный цикл приложения, который поддерживает окно открытым и обрабатывает события"
   ]
  },
  {
   "cell_type": "code",
   "execution_count": null,
   "id": "9e691630-b9bb-4a12-a68b-4870cd2186aa",
   "metadata": {},
   "outputs": [],
   "source": []
  }
 ],
 "metadata": {
  "kernelspec": {
   "display_name": "Python 3 (ipykernel)",
   "language": "python",
   "name": "python3"
  },
  "language_info": {
   "codemirror_mode": {
    "name": "ipython",
    "version": 3
   },
   "file_extension": ".py",
   "mimetype": "text/x-python",
   "name": "python",
   "nbconvert_exporter": "python",
   "pygments_lexer": "ipython3",
   "version": "3.12.4"
  }
 },
 "nbformat": 4,
 "nbformat_minor": 5
}
